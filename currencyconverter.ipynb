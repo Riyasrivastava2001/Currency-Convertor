{
 "cells": [
  {
   "cell_type": "code",
   "execution_count": 1,
   "id": "4cb56a34",
   "metadata": {},
   "outputs": [],
   "source": [
    "# loading the packages\n",
    "# requests provides us with the capabilities of sending an HTTP request to a server\n",
    "import requests"
   ]
  },
  {
   "cell_type": "code",
   "execution_count": 2,
   "id": "9b711870",
   "metadata": {},
   "outputs": [],
   "source": [
    "# We will use an API containing currency exchange rates as published by the European Central Bank\n",
    "# Documentation at https://exchangeratesapi.io\n"
   ]
  },
  {
   "cell_type": "code",
   "execution_count": null,
   "id": "34ba5e99",
   "metadata": {},
   "outputs": [],
   "source": []
  },
  {
   "cell_type": "code",
   "execution_count": 3,
   "id": "9f6699ee",
   "metadata": {},
   "outputs": [],
   "source": [
    "# Define the base URL\n",
    "# Base URL: the part of the URL common to all requests, not containing the parameters\n",
    "base_url=\"https://anyapi.io/api/v1/exchange/rates?apiKey=c8g2e730gh8t51c1j3dq6gmti8cu0c91ql5pe5mrvkot16lm564uqo\""
   ]
  },
  {
   "cell_type": "code",
   "execution_count": 4,
   "id": "44a5544d",
   "metadata": {},
   "outputs": [],
   "source": [
    "# We can make a GET request to this API endpoint with requests.get\n",
    "response=requests.get(base_url)\n",
    "# This method returns the response from the server\n",
    "# We store this response in a variable for future processing"
   ]
  },
  {
   "cell_type": "code",
   "execution_count": 5,
   "id": "e633b422",
   "metadata": {},
   "outputs": [
    {
     "data": {
      "text/plain": [
       "True"
      ]
     },
     "execution_count": 5,
     "metadata": {},
     "output_type": "execute_result"
    }
   ],
   "source": [
    "# Checking if the request went through ok\n",
    "response.ok"
   ]
  },
  {
   "cell_type": "code",
   "execution_count": 6,
   "id": "7cb4a4f7",
   "metadata": {},
   "outputs": [
    {
     "data": {
      "text/plain": [
       "200"
      ]
     },
     "execution_count": 6,
     "metadata": {},
     "output_type": "execute_result"
    }
   ],
   "source": [
    "# Checking the status code of the response\n",
    "response.status_code"
   ]
  },
  {
   "cell_type": "code",
   "execution_count": 7,
   "id": "bc88dcd6",
   "metadata": {},
   "outputs": [
    {
     "data": {
      "text/plain": [
       "'{\"lastUpdate\":1688688000,\"base\":\"EUR\",\"rates\":{\"EUR\":1,\"USD\":1.0888,\"JPY\":156.01,\"BGN\":1.9558,\"CZK\":23.945,\"DKK\":7.4515,\"GBP\":0.85298,\"HUF\":388.33,\"PLN\":4.4838,\"RON\":4.9557,\"SEK\":11.9075,\"CHF\":0.9754,\"ISK\":146.9,\"NOK\":11.7085,\"TRY\":28.383,\"AUD\":1.6416,\"BRL\":5.3527,\"CAD\":1.4557,\"CNY\":7.8773,\"HKD\":8.5232,\"IDR\":16521.26,\"ILS\":4.0428,\"INR\":90.0465,\"KRW\":1421.91,\"MXN\":18.7883,\"MYR\":5.0842,\"NZD\":1.7644,\"PHP\":60.495,\"SGD\":1.4717,\"THB\":38.358,\"ZAR\":20.7915}}'"
      ]
     },
     "execution_count": 7,
     "metadata": {},
     "output_type": "execute_result"
    }
   ],
   "source": [
    "# Inspecting the content body of the response (as a regular 'string')\n",
    "response.text"
   ]
  },
  {
   "cell_type": "code",
   "execution_count": 8,
   "id": "7cebc57a",
   "metadata": {},
   "outputs": [
    {
     "data": {
      "text/plain": [
       "b'{\"lastUpdate\":1688688000,\"base\":\"EUR\",\"rates\":{\"EUR\":1,\"USD\":1.0888,\"JPY\":156.01,\"BGN\":1.9558,\"CZK\":23.945,\"DKK\":7.4515,\"GBP\":0.85298,\"HUF\":388.33,\"PLN\":4.4838,\"RON\":4.9557,\"SEK\":11.9075,\"CHF\":0.9754,\"ISK\":146.9,\"NOK\":11.7085,\"TRY\":28.383,\"AUD\":1.6416,\"BRL\":5.3527,\"CAD\":1.4557,\"CNY\":7.8773,\"HKD\":8.5232,\"IDR\":16521.26,\"ILS\":4.0428,\"INR\":90.0465,\"KRW\":1421.91,\"MXN\":18.7883,\"MYR\":5.0842,\"NZD\":1.7644,\"PHP\":60.495,\"SGD\":1.4717,\"THB\":38.358,\"ZAR\":20.7915}}'"
      ]
     },
     "execution_count": 8,
     "metadata": {},
     "output_type": "execute_result"
    }
   ],
   "source": [
    "# Inspecting the content of the response (in 'bytes' format)\n",
    "response.content"
   ]
  },
  {
   "cell_type": "code",
   "execution_count": 9,
   "id": "1c021ecf",
   "metadata": {},
   "outputs": [],
   "source": [
    "# The data is presented in JSON format"
   ]
  },
  {
   "cell_type": "code",
   "execution_count": 10,
   "id": "4a7590f6",
   "metadata": {},
   "outputs": [
    {
     "data": {
      "text/plain": [
       "{'lastUpdate': 1688688000,\n",
       " 'base': 'EUR',\n",
       " 'rates': {'EUR': 1,\n",
       "  'USD': 1.0888,\n",
       "  'JPY': 156.01,\n",
       "  'BGN': 1.9558,\n",
       "  'CZK': 23.945,\n",
       "  'DKK': 7.4515,\n",
       "  'GBP': 0.85298,\n",
       "  'HUF': 388.33,\n",
       "  'PLN': 4.4838,\n",
       "  'RON': 4.9557,\n",
       "  'SEK': 11.9075,\n",
       "  'CHF': 0.9754,\n",
       "  'ISK': 146.9,\n",
       "  'NOK': 11.7085,\n",
       "  'TRY': 28.383,\n",
       "  'AUD': 1.6416,\n",
       "  'BRL': 5.3527,\n",
       "  'CAD': 1.4557,\n",
       "  'CNY': 7.8773,\n",
       "  'HKD': 8.5232,\n",
       "  'IDR': 16521.26,\n",
       "  'ILS': 4.0428,\n",
       "  'INR': 90.0465,\n",
       "  'KRW': 1421.91,\n",
       "  'MXN': 18.7883,\n",
       "  'MYR': 5.0842,\n",
       "  'NZD': 1.7644,\n",
       "  'PHP': 60.495,\n",
       "  'SGD': 1.4717,\n",
       "  'THB': 38.358,\n",
       "  'ZAR': 20.7915}}"
      ]
     },
     "execution_count": 10,
     "metadata": {},
     "output_type": "execute_result"
    }
   ],
   "source": [
    "# Requests has in-build method to directly convert the response to JSON format\n",
    "response.json()"
   ]
  },
  {
   "cell_type": "code",
   "execution_count": 11,
   "id": "50dd4043",
   "metadata": {},
   "outputs": [
    {
     "data": {
      "text/plain": [
       "dict"
      ]
     },
     "execution_count": 11,
     "metadata": {},
     "output_type": "execute_result"
    }
   ],
   "source": [
    "# In Python, this JSON is stored as a dictionary\n",
    "type(response.json())"
   ]
  },
  {
   "cell_type": "code",
   "execution_count": 12,
   "id": "424dfa0f",
   "metadata": {},
   "outputs": [],
   "source": [
    "# A useful library for JSON manipulation and pretty print\n",
    "import json\n",
    "\n",
    "# It has two main methods:\n",
    "# .loads(), which creates a Python dictionary from a JSON format string (just as response.json() does)\n",
    "# .dumps(), which creates a JSON format string out of a Python dictionary "
   ]
  },
  {
   "cell_type": "code",
   "execution_count": 13,
   "id": "9960a8c6",
   "metadata": {},
   "outputs": [
    {
     "name": "stdout",
     "output_type": "stream",
     "text": [
      "{\n",
      "    \"lastUpdate\": 1688688000,\n",
      "    \"base\": \"EUR\",\n",
      "    \"rates\": {\n",
      "        \"EUR\": 1,\n",
      "        \"USD\": 1.0888,\n",
      "        \"JPY\": 156.01,\n",
      "        \"BGN\": 1.9558,\n",
      "        \"CZK\": 23.945,\n",
      "        \"DKK\": 7.4515,\n",
      "        \"GBP\": 0.85298,\n",
      "        \"HUF\": 388.33,\n",
      "        \"PLN\": 4.4838,\n",
      "        \"RON\": 4.9557,\n",
      "        \"SEK\": 11.9075,\n",
      "        \"CHF\": 0.9754,\n",
      "        \"ISK\": 146.9,\n",
      "        \"NOK\": 11.7085,\n",
      "        \"TRY\": 28.383,\n",
      "        \"AUD\": 1.6416,\n",
      "        \"BRL\": 5.3527,\n",
      "        \"CAD\": 1.4557,\n",
      "        \"CNY\": 7.8773,\n",
      "        \"HKD\": 8.5232,\n",
      "        \"IDR\": 16521.26,\n",
      "        \"ILS\": 4.0428,\n",
      "        \"INR\": 90.0465,\n",
      "        \"KRW\": 1421.91,\n",
      "        \"MXN\": 18.7883,\n",
      "        \"MYR\": 5.0842,\n",
      "        \"NZD\": 1.7644,\n",
      "        \"PHP\": 60.495,\n",
      "        \"SGD\": 1.4717,\n",
      "        \"THB\": 38.358,\n",
      "        \"ZAR\": 20.7915\n",
      "    }\n",
      "}\n"
     ]
    }
   ],
   "source": [
    "# .dumps() has options to make the string 'prettier', more readable\n",
    "# We can choose the number of spaces to be used as indentation\n",
    "print(json.dumps(response.json(),indent=4))"
   ]
  },
  {
   "cell_type": "code",
   "execution_count": 14,
   "id": "13b6f5eb",
   "metadata": {},
   "outputs": [
    {
     "data": {
      "text/plain": [
       "dict_keys(['lastUpdate', 'base', 'rates'])"
      ]
     },
     "execution_count": 14,
     "metadata": {},
     "output_type": "execute_result"
    }
   ],
   "source": [
    "# It contains 3 keys; the value for the 'rates' key is another dictionary\n",
    "response.json().keys()"
   ]
  },
  {
   "cell_type": "code",
   "execution_count": 15,
   "id": "ec6ecc46",
   "metadata": {},
   "outputs": [
    {
     "data": {
      "text/plain": [
       "'https://anyapi.io/api/v1/exchange/rates?apiKey=c8g2e730gh8t51c1j3dq6gmti8cu0c91ql5pe5mrvkot16lm564uqo'"
      ]
     },
     "execution_count": 15,
     "metadata": {},
     "output_type": "execute_result"
    }
   ],
   "source": [
    "# Request parameters are added to the URL after a question mark '?'\n",
    "# In this case, we request for the exchange rates of the US Dollar (USD) and Pound Sterling (GBP) only\n",
    "param_url=base_url\n",
    "param_url"
   ]
  },
  {
   "cell_type": "code",
   "execution_count": 16,
   "id": "cfc61e24",
   "metadata": {},
   "outputs": [
    {
     "data": {
      "text/plain": [
       "200"
      ]
     },
     "execution_count": 16,
     "metadata": {},
     "output_type": "execute_result"
    }
   ],
   "source": [
    "# Making a request to the server with the new URL, containing the parameters\n",
    "response = requests.get(param_url)\n",
    "response.status_code"
   ]
  },
  {
   "cell_type": "code",
   "execution_count": 17,
   "id": "34ee7a68",
   "metadata": {},
   "outputs": [
    {
     "data": {
      "text/plain": [
       "{'lastUpdate': 1688688000,\n",
       " 'base': 'EUR',\n",
       " 'rates': {'EUR': 1,\n",
       "  'USD': 1.0888,\n",
       "  'JPY': 156.01,\n",
       "  'BGN': 1.9558,\n",
       "  'CZK': 23.945,\n",
       "  'DKK': 7.4515,\n",
       "  'GBP': 0.85298,\n",
       "  'HUF': 388.33,\n",
       "  'PLN': 4.4838,\n",
       "  'RON': 4.9557,\n",
       "  'SEK': 11.9075,\n",
       "  'CHF': 0.9754,\n",
       "  'ISK': 146.9,\n",
       "  'NOK': 11.7085,\n",
       "  'TRY': 28.383,\n",
       "  'AUD': 1.6416,\n",
       "  'BRL': 5.3527,\n",
       "  'CAD': 1.4557,\n",
       "  'CNY': 7.8773,\n",
       "  'HKD': 8.5232,\n",
       "  'IDR': 16521.26,\n",
       "  'ILS': 4.0428,\n",
       "  'INR': 90.0465,\n",
       "  'KRW': 1421.91,\n",
       "  'MXN': 18.7883,\n",
       "  'MYR': 5.0842,\n",
       "  'NZD': 1.7644,\n",
       "  'PHP': 60.495,\n",
       "  'SGD': 1.4717,\n",
       "  'THB': 38.358,\n",
       "  'ZAR': 20.7915}}"
      ]
     },
     "execution_count": 17,
     "metadata": {},
     "output_type": "execute_result"
    }
   ],
   "source": [
    "# Saving the response data\n",
    "data = response.json()\n",
    "data"
   ]
  },
  {
   "cell_type": "code",
   "execution_count": 18,
   "id": "df7d178d",
   "metadata": {},
   "outputs": [
    {
     "data": {
      "text/plain": [
       "'EUR'"
      ]
     },
     "execution_count": 18,
     "metadata": {},
     "output_type": "execute_result"
    }
   ],
   "source": [
    "# 'data' is a dictionary\n",
    "data['base']"
   ]
  },
  {
   "cell_type": "code",
   "execution_count": 19,
   "id": "06bc0327",
   "metadata": {},
   "outputs": [
    {
     "data": {
      "text/plain": [
       "1688688000"
      ]
     },
     "execution_count": 19,
     "metadata": {},
     "output_type": "execute_result"
    }
   ],
   "source": [
    "data['lastUpdate']\n"
   ]
  },
  {
   "cell_type": "code",
   "execution_count": 20,
   "id": "d319a627",
   "metadata": {},
   "outputs": [
    {
     "data": {
      "text/plain": [
       "{'EUR': 1,\n",
       " 'USD': 1.0888,\n",
       " 'JPY': 156.01,\n",
       " 'BGN': 1.9558,\n",
       " 'CZK': 23.945,\n",
       " 'DKK': 7.4515,\n",
       " 'GBP': 0.85298,\n",
       " 'HUF': 388.33,\n",
       " 'PLN': 4.4838,\n",
       " 'RON': 4.9557,\n",
       " 'SEK': 11.9075,\n",
       " 'CHF': 0.9754,\n",
       " 'ISK': 146.9,\n",
       " 'NOK': 11.7085,\n",
       " 'TRY': 28.383,\n",
       " 'AUD': 1.6416,\n",
       " 'BRL': 5.3527,\n",
       " 'CAD': 1.4557,\n",
       " 'CNY': 7.8773,\n",
       " 'HKD': 8.5232,\n",
       " 'IDR': 16521.26,\n",
       " 'ILS': 4.0428,\n",
       " 'INR': 90.0465,\n",
       " 'KRW': 1421.91,\n",
       " 'MXN': 18.7883,\n",
       " 'MYR': 5.0842,\n",
       " 'NZD': 1.7644,\n",
       " 'PHP': 60.495,\n",
       " 'SGD': 1.4717,\n",
       " 'THB': 38.358,\n",
       " 'ZAR': 20.7915}"
      ]
     },
     "execution_count": 20,
     "metadata": {},
     "output_type": "execute_result"
    }
   ],
   "source": [
    "data['rates']\n"
   ]
  },
  {
   "cell_type": "code",
   "execution_count": 21,
   "id": "798f664e",
   "metadata": {},
   "outputs": [],
   "source": [
    "# As per the documentation of this API, we can change the base with the parameter 'base'\n",
    "param_url=base_url "
   ]
  },
  {
   "cell_type": "code",
   "execution_count": 22,
   "id": "eeaba12b",
   "metadata": {},
   "outputs": [
    {
     "data": {
      "text/plain": [
       "{'lastUpdate': 1688688000,\n",
       " 'base': 'EUR',\n",
       " 'rates': {'EUR': 1,\n",
       "  'USD': 1.0888,\n",
       "  'JPY': 156.01,\n",
       "  'BGN': 1.9558,\n",
       "  'CZK': 23.945,\n",
       "  'DKK': 7.4515,\n",
       "  'GBP': 0.85298,\n",
       "  'HUF': 388.33,\n",
       "  'PLN': 4.4838,\n",
       "  'RON': 4.9557,\n",
       "  'SEK': 11.9075,\n",
       "  'CHF': 0.9754,\n",
       "  'ISK': 146.9,\n",
       "  'NOK': 11.7085,\n",
       "  'TRY': 28.383,\n",
       "  'AUD': 1.6416,\n",
       "  'BRL': 5.3527,\n",
       "  'CAD': 1.4557,\n",
       "  'CNY': 7.8773,\n",
       "  'HKD': 8.5232,\n",
       "  'IDR': 16521.26,\n",
       "  'ILS': 4.0428,\n",
       "  'INR': 90.0465,\n",
       "  'KRW': 1421.91,\n",
       "  'MXN': 18.7883,\n",
       "  'MYR': 5.0842,\n",
       "  'NZD': 1.7644,\n",
       "  'PHP': 60.495,\n",
       "  'SGD': 1.4717,\n",
       "  'THB': 38.358,\n",
       "  'ZAR': 20.7915}}"
      ]
     },
     "execution_count": 22,
     "metadata": {},
     "output_type": "execute_result"
    }
   ],
   "source": [
    "# Sending a request and saving the response JSON, all at once\n",
    "data=requests.get(base_url).json()\n",
    "data"
   ]
  },
  {
   "cell_type": "code",
   "execution_count": 23,
   "id": "c40b3c57",
   "metadata": {},
   "outputs": [
    {
     "data": {
      "text/plain": [
       "0.85298"
      ]
     },
     "execution_count": 23,
     "metadata": {},
     "output_type": "execute_result"
    }
   ],
   "source": [
    "usd_to_gbp = data['rates']['GBP']\n",
    "usd_to_gbp"
   ]
  },
  {
   "cell_type": "code",
   "execution_count": 24,
   "id": "eadf7d21",
   "metadata": {},
   "outputs": [],
   "source": [
    "base_url=\"https://anyapi.io/api/v1/exchange/rates?apiKey=c8g2e730gh8t51c1j3dq6gmti8cu0c91ql5pe5mrvkot16lm564uqo\""
   ]
  },
  {
   "cell_type": "code",
   "execution_count": 25,
   "id": "2177cc6a",
   "metadata": {},
   "outputs": [
    {
     "data": {
      "text/plain": [
       "'https://anyapi.io/api/v1/exchange/rates?apiKey=c8g2e730gh8t51c1j3dq6gmti8cu0c91ql5pe5mrvkot16lm564uqo'"
      ]
     },
     "execution_count": 25,
     "metadata": {},
     "output_type": "execute_result"
    }
   ],
   "source": [
    "# We can also ask for the exhange rates at a particular lastUpdate\n",
    "historical_url = base_url \n",
    "historical_url"
   ]
  },
  {
   "cell_type": "code",
   "execution_count": 26,
   "id": "fc5d9e21",
   "metadata": {},
   "outputs": [
    {
     "data": {
      "text/plain": [
       "200"
      ]
     },
     "execution_count": 26,
     "metadata": {},
     "output_type": "execute_result"
    }
   ],
   "source": [
    "# Making the GET request\n",
    "response = requests.get(historical_url)\n",
    "response.status_code"
   ]
  },
  {
   "cell_type": "code",
   "execution_count": 27,
   "id": "f6ae4606",
   "metadata": {},
   "outputs": [
    {
     "name": "stdout",
     "output_type": "stream",
     "text": [
      "{\n",
      "    \"lastUpdate\": 1688688000,\n",
      "    \"base\": \"EUR\",\n",
      "    \"rates\": {\n",
      "        \"EUR\": 1,\n",
      "        \"USD\": 1.0888,\n",
      "        \"JPY\": 156.01,\n",
      "        \"BGN\": 1.9558,\n",
      "        \"CZK\": 23.945,\n",
      "        \"DKK\": 7.4515,\n",
      "        \"GBP\": 0.85298,\n",
      "        \"HUF\": 388.33,\n",
      "        \"PLN\": 4.4838,\n",
      "        \"RON\": 4.9557,\n",
      "        \"SEK\": 11.9075,\n",
      "        \"CHF\": 0.9754,\n",
      "        \"ISK\": 146.9,\n",
      "        \"NOK\": 11.7085,\n",
      "        \"TRY\": 28.383,\n",
      "        \"AUD\": 1.6416,\n",
      "        \"BRL\": 5.3527,\n",
      "        \"CAD\": 1.4557,\n",
      "        \"CNY\": 7.8773,\n",
      "        \"HKD\": 8.5232,\n",
      "        \"IDR\": 16521.26,\n",
      "        \"ILS\": 4.0428,\n",
      "        \"INR\": 90.0465,\n",
      "        \"KRW\": 1421.91,\n",
      "        \"MXN\": 18.7883,\n",
      "        \"MYR\": 5.0842,\n",
      "        \"NZD\": 1.7644,\n",
      "        \"PHP\": 60.495,\n",
      "        \"SGD\": 1.4717,\n",
      "        \"THB\": 38.358,\n",
      "        \"ZAR\": 20.7915\n",
      "    }\n",
      "}\n"
     ]
    }
   ],
   "source": [
    "# Pretty printing the data\n",
    "data = response.json()\n",
    "print(json.dumps(data, indent=4))"
   ]
  },
  {
   "cell_type": "code",
   "execution_count": 28,
   "id": "d1e5eb0a",
   "metadata": {},
   "outputs": [
    {
     "data": {
      "text/plain": [
       "'https://anyapi.io/api/v1/exchange/rates?apiKey=c8g2e730gh8t51c1j3dq6gmti8cu0c91ql5pe5mrvkot16lm564uqo'"
      ]
     },
     "execution_count": 28,
     "metadata": {},
     "output_type": "execute_result"
    }
   ],
   "source": [
    "# The URL for this request is formed with '/history' and the parameters 'start_at' and 'end_at'\n",
    "time_period = base_url \n",
    "time_period"
   ]
  },
  {
   "cell_type": "code",
   "execution_count": 29,
   "id": "c6f3ca9b",
   "metadata": {},
   "outputs": [],
   "source": [
    "# Extracting the response JSON object\n",
    "data = requests.get(time_period).json()"
   ]
  },
  {
   "cell_type": "code",
   "execution_count": 30,
   "id": "1ae74ef6",
   "metadata": {},
   "outputs": [
    {
     "name": "stdout",
     "output_type": "stream",
     "text": [
      "{\n",
      "    \"lastUpdate\": 1688688000,\n",
      "    \"base\": \"EUR\",\n",
      "    \"rates\": {\n",
      "        \"EUR\": 1,\n",
      "        \"USD\": 1.0888,\n",
      "        \"JPY\": 156.01,\n",
      "        \"BGN\": 1.9558,\n",
      "        \"CZK\": 23.945,\n",
      "        \"DKK\": 7.4515,\n",
      "        \"GBP\": 0.85298,\n",
      "        \"HUF\": 388.33,\n",
      "        \"PLN\": 4.4838,\n",
      "        \"RON\": 4.9557,\n",
      "        \"SEK\": 11.9075,\n",
      "        \"CHF\": 0.9754,\n",
      "        \"ISK\": 146.9,\n",
      "        \"NOK\": 11.7085,\n",
      "        \"TRY\": 28.383,\n",
      "        \"AUD\": 1.6416,\n",
      "        \"BRL\": 5.3527,\n",
      "        \"CAD\": 1.4557,\n",
      "        \"CNY\": 7.8773,\n",
      "        \"HKD\": 8.5232,\n",
      "        \"IDR\": 16521.26,\n",
      "        \"ILS\": 4.0428,\n",
      "        \"INR\": 90.0465,\n",
      "        \"KRW\": 1421.91,\n",
      "        \"MXN\": 18.7883,\n",
      "        \"MYR\": 5.0842,\n",
      "        \"NZD\": 1.7644,\n",
      "        \"PHP\": 60.495,\n",
      "        \"SGD\": 1.4717,\n",
      "        \"THB\": 38.358,\n",
      "        \"ZAR\": 20.7915\n",
      "    }\n",
      "}\n"
     ]
    }
   ],
   "source": [
    "# Pretty printing the JSON\n",
    "# Notice that the dates are in random order\n",
    "print(json.dumps(data, indent=4))"
   ]
  },
  {
   "cell_type": "code",
   "execution_count": null,
   "id": "9d195d17",
   "metadata": {},
   "outputs": [],
   "source": []
  },
  {
   "cell_type": "code",
   "execution_count": 31,
   "id": "44fd9d09",
   "metadata": {},
   "outputs": [
    {
     "name": "stdout",
     "output_type": "stream",
     "text": [
      "{\n",
      "    \"base\": \"EUR\",\n",
      "    \"lastUpdate\": 1688688000,\n",
      "    \"rates\": {\n",
      "        \"AUD\": 1.6416,\n",
      "        \"BGN\": 1.9558,\n",
      "        \"BRL\": 5.3527,\n",
      "        \"CAD\": 1.4557,\n",
      "        \"CHF\": 0.9754,\n",
      "        \"CNY\": 7.8773,\n",
      "        \"CZK\": 23.945,\n",
      "        \"DKK\": 7.4515,\n",
      "        \"EUR\": 1,\n",
      "        \"GBP\": 0.85298,\n",
      "        \"HKD\": 8.5232,\n",
      "        \"HUF\": 388.33,\n",
      "        \"IDR\": 16521.26,\n",
      "        \"ILS\": 4.0428,\n",
      "        \"INR\": 90.0465,\n",
      "        \"ISK\": 146.9,\n",
      "        \"JPY\": 156.01,\n",
      "        \"KRW\": 1421.91,\n",
      "        \"MXN\": 18.7883,\n",
      "        \"MYR\": 5.0842,\n",
      "        \"NOK\": 11.7085,\n",
      "        \"NZD\": 1.7644,\n",
      "        \"PHP\": 60.495,\n",
      "        \"PLN\": 4.4838,\n",
      "        \"RON\": 4.9557,\n",
      "        \"SEK\": 11.9075,\n",
      "        \"SGD\": 1.4717,\n",
      "        \"THB\": 38.358,\n",
      "        \"TRY\": 28.383,\n",
      "        \"USD\": 1.0888,\n",
      "        \"ZAR\": 20.7915\n",
      "    }\n",
      "}\n"
     ]
    }
   ],
   "source": [
    "# We can use the 'sort_keys' parameter of the json.dumps() method to order these dates chronologically\n",
    "print(json.dumps(data, indent=4, sort_keys=True))"
   ]
  },
  {
   "cell_type": "code",
   "execution_count": 32,
   "id": "c831baed",
   "metadata": {},
   "outputs": [],
   "source": [
    "# Testing how the API behaves if given incorrect input parameters"
   ]
  },
  {
   "cell_type": "code",
   "execution_count": 33,
   "id": "1d2dc418",
   "metadata": {},
   "outputs": [],
   "source": [
    "# Trying out an invalid DATE\n",
    "invalid_url = base_url + \"/2019-13-01\""
   ]
  },
  {
   "cell_type": "code",
   "execution_count": 34,
   "id": "37cc291f",
   "metadata": {},
   "outputs": [
    {
     "data": {
      "text/plain": [
       "401"
      ]
     },
     "execution_count": 34,
     "metadata": {},
     "output_type": "execute_result"
    }
   ],
   "source": [
    "# Making the request\n",
    "response = requests.get(invalid_url)\n",
    "response.status_code # The server responds with a 400 error code indicating a 'bad request'"
   ]
  },
  {
   "cell_type": "code",
   "execution_count": null,
   "id": "d0bf67d1",
   "metadata": {},
   "outputs": [],
   "source": []
  },
  {
   "cell_type": "code",
   "execution_count": 36,
   "id": "820cb007",
   "metadata": {},
   "outputs": [
    {
     "name": "stdout",
     "output_type": "stream",
     "text": [
      "Please enter the lastUpdated : 89887\n",
      "Convert from (currency): USD\n",
      "Convert to (currency): GBP\n",
      "How much USD do you want to convert: 98\n",
      "\n",
      "98.0 USD is equal to 83.59204 GBP, based upon exchange rates \n"
     ]
    }
   ],
   "source": [
    "# Gathering input parameters from the user\n",
    "lastUpdate= input(\"Please enter the lastUpdated : \")\n",
    "base = input(\"Convert from (currency): \")\n",
    "curr = input(\"Convert to (currency): \")\n",
    "quan = float(input(\"How much {} do you want to convert: \".format(base)))\n",
    "\n",
    "# Constructing the URL based on the user parameters and sending a request to the server\n",
    "url = base_url \n",
    "response = requests.get(url)\n",
    "\n",
    "# Displaying the error message, if something went wrong\n",
    "if(response.ok is False):\n",
    "    print(\"\\nError {}:\".format(response.status_code))\n",
    "    print(response.json()['error'])\n",
    "\n",
    "else:\n",
    "    data = response.json()\n",
    "    rate = data['rates'][curr]\n",
    "    \n",
    "    result = quan*rate\n",
    "    \n",
    "    print(\"\\n{0} {1} is equal to {2} {3}, based upon exchange rates \".format(quan,base,result,curr))\n"
   ]
  },
  {
   "cell_type": "code",
   "execution_count": null,
   "id": "9ee4d870",
   "metadata": {},
   "outputs": [],
   "source": []
  },
  {
   "cell_type": "code",
   "execution_count": null,
   "id": "df2acd82",
   "metadata": {},
   "outputs": [],
   "source": []
  }
 ],
 "metadata": {
  "kernelspec": {
   "display_name": "Python 3 (ipykernel)",
   "language": "python",
   "name": "python3"
  },
  "language_info": {
   "codemirror_mode": {
    "name": "ipython",
    "version": 3
   },
   "file_extension": ".py",
   "mimetype": "text/x-python",
   "name": "python",
   "nbconvert_exporter": "python",
   "pygments_lexer": "ipython3",
   "version": "3.9.13"
  }
 },
 "nbformat": 4,
 "nbformat_minor": 5
}
